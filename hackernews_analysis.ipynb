{
  "nbformat": 4,
  "nbformat_minor": 0,
  "metadata": {
    "colab": {
      "name": "hackernews_analysis.ipynb",
      "provenance": [],
      "authorship_tag": "ABX9TyNN8qqnUmBgE9Qv2baGkwcP",
      "include_colab_link": true
    },
    "kernelspec": {
      "name": "python3",
      "display_name": "Python 3"
    }
  },
  "cells": [
    {
      "cell_type": "markdown",
      "metadata": {
        "id": "view-in-github",
        "colab_type": "text"
      },
      "source": [
        "<a href=\"https://colab.research.google.com/github/waibazen/hacker_news_analysis/blob/master/hackernews_analysis.ipynb\" target=\"_parent\"><img src=\"https://colab.research.google.com/assets/colab-badge.svg\" alt=\"Open In Colab\"/></a>"
      ]
    },
    {
      "cell_type": "markdown",
      "metadata": {
        "id": "knNgj21gaplB",
        "colab_type": "text"
      },
      "source": [
        " ## Project Overview:\n",
        "In this project,I used python's datetime module and simple list and dictionary concepts in analyzing various kinds of posts that was posted at different times in Hacker News site.It is  a popular website where technology related 'posts' are voted and commented . There are  two types of posts I explore that begin with attributes either Ask HN or Show HN. This mini project falls under the category of Exploratory data analysis.\n",
        "\n",
        "**Problem Statement:**\n",
        "\n",
        "1. What type of posts: Ask HN or Show HN or other type of posts receive more comments on average?\n",
        "2. Do posts created at a certain time receive more comments on average?"
      ]
    },
    {
      "cell_type": "code",
      "metadata": {
        "id": "bTW8PnidNny4",
        "colab_type": "code",
        "outputId": "5f7f3dc9-a75c-464c-eccd-e1c4b5bc06be",
        "colab": {
          "base_uri": "https://localhost:8080/",
          "height": 54
        }
      },
      "source": [
        "#lets read in the file which a list of lists\n",
        "from csv import reader\n",
        "opened_file=open(\"hacker_news.csv\")\n",
        "reader_file= reader(opened_file)\n",
        "hn=list(reader_file)\n",
        "print(hn[0:5])"
      ],
      "execution_count": 0,
      "outputs": [
        {
          "output_type": "stream",
          "text": [
            "[['id', 'title', 'url', 'num_points', 'num_comments', 'author', 'created_at'], ['12224879', 'Interactive Dynamic Video', 'http://www.interactivedynamicvideo.com/', '386', '52', 'ne0phyte', '8/4/2016 11:52'], ['10975351', 'How to Use Open Source and Shut the Fuck Up at the Same Time', 'http://hueniverse.com/2016/01/26/how-to-use-open-source-and-shut-the-fuck-up-at-the-same-time/', '39', '10', 'josep2', '1/26/2016 19:30'], ['11964716', \"Florida DJs May Face Felony for April Fools' Water Joke\", 'http://www.thewire.com/entertainment/2013/04/florida-djs-april-fools-water-joke/63798/', '2', '1', 'vezycash', '6/23/2016 22:20'], ['11919867', 'Technology ventures: From Idea to Enterprise', 'https://www.amazon.com/Technology-Ventures-Enterprise-Thomas-Byers/dp/0073523429', '3', '1', 'hswarna', '6/17/2016 0:01']]\n"
          ],
          "name": "stdout"
        }
      ]
    },
    {
      "cell_type": "code",
      "metadata": {
        "id": "BQd0hqrrQZ3U",
        "colab_type": "code",
        "outputId": "7bb55976-4364-462c-c378-0f481fadd539",
        "colab": {
          "base_uri": "https://localhost:8080/",
          "height": 71
        }
      },
      "source": [
        "# create headers\n",
        "headers=hn[0]\n",
        "hn=hn[1:]\n",
        "print(headers)\n",
        "print(hn[:5])"
      ],
      "execution_count": 0,
      "outputs": [
        {
          "output_type": "stream",
          "text": [
            "['12224879', 'Interactive Dynamic Video', 'http://www.interactivedynamicvideo.com/', '386', '52', 'ne0phyte', '8/4/2016 11:52']\n",
            "[['10975351', 'How to Use Open Source and Shut the Fuck Up at the Same Time', 'http://hueniverse.com/2016/01/26/how-to-use-open-source-and-shut-the-fuck-up-at-the-same-time/', '39', '10', 'josep2', '1/26/2016 19:30'], ['11964716', \"Florida DJs May Face Felony for April Fools' Water Joke\", 'http://www.thewire.com/entertainment/2013/04/florida-djs-april-fools-water-joke/63798/', '2', '1', 'vezycash', '6/23/2016 22:20'], ['11919867', 'Technology ventures: From Idea to Enterprise', 'https://www.amazon.com/Technology-Ventures-Enterprise-Thomas-Byers/dp/0073523429', '3', '1', 'hswarna', '6/17/2016 0:01'], ['10301696', 'Note by Note: The Making of Steinway L1037 (2007)', 'http://www.nytimes.com/2007/11/07/movies/07stein.html?_r=0', '8', '2', 'walterbell', '9/30/2015 4:12'], ['10482257', 'Title II kills investment? Comcast and other ISPs are now spending more', 'http://arstechnica.com/business/2015/10/comcast-and-other-isps-boost-network-investment-despite-net-neutrality/', '53', '22', 'Deinos', '10/31/2015 9:48']]\n"
          ],
          "name": "stdout"
        }
      ]
    },
    {
      "cell_type": "markdown",
      "metadata": {
        "id": "iROcEB3RcZrT",
        "colab_type": "text"
      },
      "source": [
        "### Categorizing the kinds of posts by the attributes or words they start with"
      ]
    },
    {
      "cell_type": "code",
      "metadata": {
        "id": "EaGTbG7UOAMt",
        "colab_type": "code",
        "outputId": "4ddd570b-a432-4b9e-f5ea-93c26ddd5237",
        "colab": {
          "base_uri": "https://localhost:8080/",
          "height": 68
        }
      },
      "source": [
        "#lets create different subsets of posts to differntiate each posts \n",
        "ask_posts=[]\n",
        "show_posts=[]\n",
        "other_posts=[]\n",
        "\n",
        "#check the title and append to the related lists\n",
        "for posts in hn:\n",
        "    title=posts[1]\n",
        "    if(title.lower().startswith('ask hn')):\n",
        "        ask_posts.append(posts)\n",
        "    elif(title.lower().startswith('show hn')):\n",
        "        show_posts.append(posts)\n",
        "    else:\n",
        "        other_posts.append(posts)\n",
        "    \n",
        "print(\"Total number of 'ask' posts:\" ,len(ask_posts))\n",
        "print(\"Total number of 'show'posts:\" ,len(show_posts))\n",
        "print(\"Total number of other posts:\" ,len(other_posts))"
      ],
      "execution_count": 0,
      "outputs": [
        {
          "output_type": "stream",
          "text": [
            "Total number of 'ask' posts: 1744\n",
            "Total number of 'show'posts: 1162\n",
            "Total number of other posts: 17193\n"
          ],
          "name": "stdout"
        }
      ]
    },
    {
      "cell_type": "code",
      "metadata": {
        "id": "eZ1BBjb9Szgf",
        "colab_type": "code",
        "colab": {}
      },
      "source": [
        "#print(ask_posts)\n",
        "#print(show_posts)"
      ],
      "execution_count": 0,
      "outputs": []
    },
    {
      "cell_type": "markdown",
      "metadata": {
        "id": "by4v4FOyf1al",
        "colab_type": "text"
      },
      "source": [
        "Clearly,otherposts dominate the number of posts.However,ask posts beats show posts by considerable margin for our purpose"
      ]
    },
    {
      "cell_type": "markdown",
      "metadata": {
        "id": "TdEFxb5cckDs",
        "colab_type": "text"
      },
      "source": [
        "### Finding the average number of comments in each category"
      ]
    },
    {
      "cell_type": "code",
      "metadata": {
        "id": "tg2tsYaWRFld",
        "colab_type": "code",
        "outputId": "542e9790-b431-4c82-b115-f18fca40a148",
        "colab": {
          "base_uri": "https://localhost:8080/",
          "height": 51
        }
      },
      "source": [
        "total_ask_comments=0\n",
        "#print(ask_posts[0])\n",
        "for i in ask_posts:\n",
        "    num_comments=int(i[4])\n",
        "    total_ask_comments+=num_comments\n",
        "avg_ask_comments=total_ask_comments/len(ask_posts)\n",
        "\n",
        "\n",
        "total_show_comments=0\n",
        "for i in show_posts:\n",
        "    num_scomments=int(i[4])\n",
        "    total_show_comments+=num_scomments\n",
        "avg_show_comments=total_show_comments/len(show_posts)\n",
        "\n",
        "print('Avg ask comments: ',avg_ask_comments)\n",
        "print('Avg show comments: ',avg_show_comments)"
      ],
      "execution_count": 0,
      "outputs": [
        {
          "output_type": "stream",
          "text": [
            "Avg ask comments:  14.038417431192661\n",
            "Avg show comments:  10.31669535283993\n"
          ],
          "name": "stdout"
        }
      ]
    },
    {
      "cell_type": "code",
      "metadata": {
        "id": "sgw0hwOFc7kg",
        "colab_type": "code",
        "colab": {}
      },
      "source": [
        ""
      ],
      "execution_count": 0,
      "outputs": []
    },
    {
      "cell_type": "markdown",
      "metadata": {
        "id": "cdmVsHcndcjg",
        "colab_type": "text"
      },
      "source": [
        "## finding average number of comments and average number of posts by hour##"
      ]
    },
    {
      "cell_type": "code",
      "metadata": {
        "id": "86kiBYgnRZmI",
        "colab_type": "code",
        "outputId": "05f275f1-2a96-4b28-e2ac-a5e17bd7b8ed",
        "colab": {
          "base_uri": "https://localhost:8080/",
          "height": 71
        }
      },
      "source": [
        "\n",
        "import datetime as dt\n",
        "result_list=[]\n",
        "\n",
        "#Make a new list of asks posts with the created_at time and number of comments\n",
        "for i in ask_posts:\n",
        "    new_list=[]\n",
        "    new_list.append(i[6])#created_at\n",
        "    new_list.append(i[4])#num_comments\n",
        "    result_list.append(new_list)\n",
        "#print(result_list)   \n",
        "#create another dictionaries for finding average counts of post by hour\n",
        "counts_by_hour={}\n",
        "comments_by_hour={}\n",
        "date_format = \"%m/%d/%Y %H:%M\"\n",
        "\n",
        "\n",
        "#iterate over each hour in the new list and count number of post in that hour,\n",
        "#also count the number of comments for that hour\n",
        "for i in result_list:\n",
        "    date = i[0]\n",
        "    comment = int(i[1])\n",
        "    time = dt.datetime.strptime(date, date_format).strftime(\"%H %p\")\n",
        "    if time in counts_by_hour:\n",
        "        comments_by_hour[time] += int(comment)\n",
        "        counts_by_hour[time] += 1\n",
        "    else:\n",
        "        comments_by_hour[time] = int(comment)\n",
        "        counts_by_hour[time] = 1\n",
        "print(\"Number of comments by hour:\",comments_by_hour)\n",
        "\n",
        "print(\"Number of posts by hour:\",counts_by_hour)"
      ],
      "execution_count": 33,
      "outputs": [
        {
          "output_type": "stream",
          "text": [
            "Number of comments by hour: {'09 AM': 251, '13 PM': 1253, '10 AM': 793, '14 PM': 1416, '16 PM': 1814, '23 PM': 543, '12 PM': 687, '17 PM': 1146, '15 PM': 4477, '21 PM': 1745, '20 PM': 1722, '02 AM': 1381, '18 PM': 1439, '03 AM': 421, '05 AM': 464, '19 PM': 1188, '01 AM': 683, '22 PM': 479, '08 AM': 492, '04 AM': 337, '00 AM': 447, '06 AM': 397, '07 AM': 267, '11 AM': 641}\n",
            "Number of posts by hour: {'09 AM': 45, '13 PM': 85, '10 AM': 59, '14 PM': 107, '16 PM': 108, '23 PM': 68, '12 PM': 73, '17 PM': 100, '15 PM': 116, '21 PM': 109, '20 PM': 80, '02 AM': 58, '18 PM': 109, '03 AM': 54, '05 AM': 46, '19 PM': 110, '01 AM': 60, '22 PM': 71, '08 AM': 48, '04 AM': 47, '00 AM': 55, '06 AM': 44, '07 AM': 34, '11 AM': 58}\n"
          ],
          "name": "stdout"
        }
      ]
    },
    {
      "cell_type": "code",
      "metadata": {
        "id": "yoygLqJpWP_p",
        "colab_type": "code",
        "outputId": "1ef42945-d892-4b6d-df73-78d6b6036528",
        "colab": {
          "base_uri": "https://localhost:8080/",
          "height": 54
        }
      },
      "source": [
        "#finding average comments per posts per hour\n",
        "comavg_by_hour=[]\n",
        "for e in comments_by_hour:\n",
        "    comavg_by_hour.append([comments_by_hour[e]/counts_by_hour[e],e])\n",
        "    #print(counts_by_hour[each])\n",
        "print(\"Average comments within each hour:\",comavg_by_hour)\n"
      ],
      "execution_count": 0,
      "outputs": [
        {
          "output_type": "stream",
          "text": [
            "Average comments within each hour: [[5.5777777777777775, '09'], [14.741176470588234, '13'], [13.440677966101696, '10'], [13.233644859813085, '14'], [16.796296296296298, '16'], [7.985294117647059, '23'], [9.41095890410959, '12'], [11.46, '17'], [38.5948275862069, '15'], [16.009174311926607, '21'], [21.525, '20'], [23.810344827586206, '02'], [13.20183486238532, '18'], [7.796296296296297, '03'], [10.08695652173913, '05'], [10.8, '19'], [11.383333333333333, '01'], [6.746478873239437, '22'], [10.25, '08'], [7.170212765957447, '04'], [8.127272727272727, '00'], [9.022727272727273, '06'], [7.852941176470588, '07'], [11.051724137931034, '11']]\n"
          ],
          "name": "stdout"
        }
      ]
    },
    {
      "cell_type": "markdown",
      "metadata": {
        "id": "XSPjyBNxdD5R",
        "colab_type": "text"
      },
      "source": [
        "# Finding Top 3  Average comments per post"
      ]
    },
    {
      "cell_type": "code",
      "metadata": {
        "id": "yGILE-lpXIdW",
        "colab_type": "code",
        "outputId": "baa7c4f8-6a10-427f-cfc0-2bd3db4794ba",
        "colab": {
          "base_uri": "https://localhost:8080/",
          "height": 122
        }
      },
      "source": [
        "\n",
        "sorted_comavg=sorted(comavg_by_hour,reverse=True)\n",
        "print(sorted_comavg)\n",
        "print(\"Top 5 Hours for Ask Posts Comments\")\n",
        "\n",
        "for avg, hr in sorted_comavg[:3]:\n",
        "    print(\n",
        "        \"{}: {:.2f} average comments per post\".format(\n",
        "            dt.datetime.strptime(str(hr), \"%H\").strftime(\"%H:%M %p\"),avg\n",
        "        )\n",
        "    )"
      ],
      "execution_count": 0,
      "outputs": [
        {
          "output_type": "stream",
          "text": [
            "[[38.5948275862069, '15'], [23.810344827586206, '02'], [21.525, '20'], [16.796296296296298, '16'], [16.009174311926607, '21'], [14.741176470588234, '13'], [13.440677966101696, '10'], [13.233644859813085, '14'], [13.20183486238532, '18'], [11.46, '17'], [11.383333333333333, '01'], [11.051724137931034, '11'], [10.8, '19'], [10.25, '08'], [10.08695652173913, '05'], [9.41095890410959, '12'], [9.022727272727273, '06'], [8.127272727272727, '00'], [7.985294117647059, '23'], [7.852941176470588, '07'], [7.796296296296297, '03'], [7.170212765957447, '04'], [6.746478873239437, '22'], [5.5777777777777775, '09']]\n",
            "Top 5 Hours for Ask Posts Comments\n",
            "15:00 PM: 38.59 average comments per post\n",
            "02:00 AM: 23.81 average comments per post\n",
            "20:00 PM: 21.52 average comments per post\n"
          ],
          "name": "stdout"
        }
      ]
    },
    {
      "cell_type": "code",
      "metadata": {
        "id": "pGFYzH5gd2KY",
        "colab_type": "code",
        "outputId": "32df6f3c-24f4-4918-d570-778f0417204a",
        "colab": {
          "base_uri": "https://localhost:8080/",
          "height": 122
        }
      },
      "source": [
        "sorted_comavg=sorted(comavg_by_hour,reverse=False)\n",
        "print(sorted_comavg)\n",
        "print(\"Last 3 Hours for Ask Posts Comments\")\n",
        "\n",
        "for avg, hr in sorted_comavg[:3]:\n",
        "    print(\n",
        "        \"{}: {:.2f} average comments per post\".format(\n",
        "            dt.datetime.strptime(str(hr), \"%H\").strftime(\"%H:%M %p\"),avg\n",
        "        )\n",
        "    )"
      ],
      "execution_count": 0,
      "outputs": [
        {
          "output_type": "stream",
          "text": [
            "[[5.5777777777777775, '09'], [6.746478873239437, '22'], [7.170212765957447, '04'], [7.796296296296297, '03'], [7.852941176470588, '07'], [7.985294117647059, '23'], [8.127272727272727, '00'], [9.022727272727273, '06'], [9.41095890410959, '12'], [10.08695652173913, '05'], [10.25, '08'], [10.8, '19'], [11.051724137931034, '11'], [11.383333333333333, '01'], [11.46, '17'], [13.20183486238532, '18'], [13.233644859813085, '14'], [13.440677966101696, '10'], [14.741176470588234, '13'], [16.009174311926607, '21'], [16.796296296296298, '16'], [21.525, '20'], [23.810344827586206, '02'], [38.5948275862069, '15']]\n",
            "Last 3 Hours for Ask Posts Comments\n",
            "09:00 AM: 5.58 average comments per post\n",
            "22:00 PM: 6.75 average comments per post\n",
            "04:00 AM: 7.17 average comments per post\n"
          ],
          "name": "stdout"
        }
      ]
    },
    {
      "cell_type": "markdown",
      "metadata": {
        "id": "D3SfRloOdtuQ",
        "colab_type": "text"
      },
      "source": [
        "**Insights:**\n",
        "\n",
        "On average,3 PM  is the time for the highest likelihood of receiving comments. followed by , 2 AM which is most probably due to users located at different timezones.\n",
        "on morning time at 9 AM HR recieves the least comments followed by 10 PM.\n",
        "\n",
        "\n",
        "\n",
        "\n"
      ]
    }
  ]
}